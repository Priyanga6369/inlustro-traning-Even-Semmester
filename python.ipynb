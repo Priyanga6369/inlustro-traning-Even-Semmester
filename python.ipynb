{
  "nbformat": 4,
  "nbformat_minor": 0,
  "metadata": {
    "colab": {
      "provenance": []
    },
    "kernelspec": {
      "name": "python3",
      "display_name": "Python 3"
    },
    "language_info": {
      "name": "python"
    }
  },
  "cells": [
    {
      "cell_type": "code",
      "execution_count": null,
      "metadata": {
        "colab": {
          "base_uri": "https://localhost:8080/"
        },
        "id": "E9umLsYAZzIn",
        "outputId": "f52cd642-60c1-47a0-ed55-f1878a811000"
      },
      "outputs": [
        {
          "output_type": "stream",
          "name": "stdout",
          "text": [
            "40\n"
          ]
        }
      ],
      "source": [
        "a=20\n",
        "b=40\n",
        "print(b)\n"
      ]
    },
    {
      "cell_type": "code",
      "source": [
        "a=30;\n",
        "b=20;\n",
        "print(\"A\",a)\n",
        "\n"
      ],
      "metadata": {
        "colab": {
          "base_uri": "https://localhost:8080/"
        },
        "id": "9u-5zweub1z1",
        "outputId": "6cbff184-bb07-474c-9aec-d0956407dccb"
      },
      "execution_count": null,
      "outputs": [
        {
          "output_type": "stream",
          "name": "stdout",
          "text": [
            "A 30\n"
          ]
        }
      ]
    },
    {
      "cell_type": "code",
      "source": [
        "a=5;\n",
        "b=10;\n",
        "print(\"B\",b)"
      ],
      "metadata": {
        "colab": {
          "base_uri": "https://localhost:8080/"
        },
        "id": "NK1KvHs5fNRq",
        "outputId": "b305660a-3baf-4ace-9d21-640fc9b7e86f"
      },
      "execution_count": null,
      "outputs": [
        {
          "output_type": "stream",
          "name": "stdout",
          "text": [
            "B 10\n"
          ]
        }
      ]
    },
    {
      "cell_type": "code",
      "source": [
        "price=99.99;\n",
        "print(\"price\")"
      ],
      "metadata": {
        "colab": {
          "base_uri": "https://localhost:8080/"
        },
        "id": "YjjoOENHfNWJ",
        "outputId": "cc38c483-19b6-4905-d56f-e34a2c1e46ca"
      },
      "execution_count": null,
      "outputs": [
        {
          "output_type": "stream",
          "name": "stdout",
          "text": [
            "price\n"
          ]
        }
      ]
    },
    {
      "cell_type": "code",
      "source": [
        "is_valid=True\n",
        "print(is_valid)"
      ],
      "metadata": {
        "colab": {
          "base_uri": "https://localhost:8080/"
        },
        "id": "KPYb6OAvfNYo",
        "outputId": "ea2c9d43-9ec6-48f0-ae7e-65477f89a192"
      },
      "execution_count": null,
      "outputs": [
        {
          "output_type": "stream",
          "name": "stdout",
          "text": [
            "True\n"
          ]
        }
      ]
    },
    {
      "cell_type": "code",
      "source": [
        "x,y,z=10,20,30\n",
        "print(x,y,z)"
      ],
      "metadata": {
        "colab": {
          "base_uri": "https://localhost:8080/"
        },
        "id": "OvRoPNDNfNa6",
        "outputId": "9cd2c4ca-eaa5-4fdb-db09-6504f9cdbd23"
      },
      "execution_count": null,
      "outputs": [
        {
          "output_type": "stream",
          "name": "stdout",
          "text": [
            "10 20 30\n"
          ]
        }
      ]
    },
    {
      "cell_type": "code",
      "source": [
        "p=q=r=10\n",
        "print(p,q,r)"
      ],
      "metadata": {
        "colab": {
          "base_uri": "https://localhost:8080/"
        },
        "id": "lRCUM7wAfNdJ",
        "outputId": "85565462-992a-490d-a9cf-c784ccf8a35f"
      },
      "execution_count": null,
      "outputs": [
        {
          "output_type": "stream",
          "name": "stdout",
          "text": [
            "10 10 10\n"
          ]
        }
      ]
    },
    {
      "cell_type": "code",
      "source": [
        "age=25\n",
        "printage=25\n",
        "age=30\n",
        "print(age)"
      ],
      "metadata": {
        "colab": {
          "base_uri": "https://localhost:8080/"
        },
        "id": "dJTPG16RfNfQ",
        "outputId": "97fad938-e845-40c2-a372-28be917a157f"
      },
      "execution_count": null,
      "outputs": [
        {
          "output_type": "stream",
          "name": "stdout",
          "text": [
            "30\n"
          ]
        }
      ]
    },
    {
      "cell_type": "code",
      "source": [
        "value=50\n",
        "del value\n",
        "# print(value) #This will cause an error since value is deleted.\n"
      ],
      "metadata": {
        "id": "CO5sjIqBfOXn"
      },
      "execution_count": null,
      "outputs": []
    },
    {
      "cell_type": "code",
      "source": [
        "message=\"Hellow, World!\"\n",
        "print(len(\"message\"))\n"
      ],
      "metadata": {
        "colab": {
          "base_uri": "https://localhost:8080/"
        },
        "id": "f-_UxfvHfObu",
        "outputId": "05113492-43d0-4c79-c99e-142df7847135"
      },
      "execution_count": null,
      "outputs": [
        {
          "output_type": "stream",
          "name": "stdout",
          "text": [
            "7\n"
          ]
        }
      ]
    },
    {
      "cell_type": "code",
      "source": [
        "data=42\n",
        "print(data)\n",
        "data=str(data)\n",
        "print(data)"
      ],
      "metadata": {
        "colab": {
          "base_uri": "https://localhost:8080/"
        },
        "id": "98oVsaGFfOeX",
        "outputId": "fe1a6ff8-043b-4b90-a124-917bf39c2aec"
      },
      "execution_count": null,
      "outputs": [
        {
          "output_type": "stream",
          "name": "stdout",
          "text": [
            "42\n",
            "42\n"
          ]
        }
      ]
    },
    {
      "cell_type": "code",
      "source": [
        "num=5\n",
        "if num>=0:\n",
        "  print(\"positive number\")\n"
      ],
      "metadata": {
        "colab": {
          "base_uri": "https://localhost:8080/"
        },
        "id": "jl9PQtlIfOi3",
        "outputId": "65afd7c6-a15e-450a-f1fe-20f4f124b252"
      },
      "execution_count": null,
      "outputs": [
        {
          "output_type": "stream",
          "name": "stdout",
          "text": [
            "positive number\n"
          ]
        }
      ]
    },
    {
      "cell_type": "code",
      "source": [
        "a=10\n",
        "b=20\n",
        "if(a<b):\n",
        "  print(\"Ais greatest\")\n",
        "else:\n",
        "  print(\"Bis greatest\")"
      ],
      "metadata": {
        "colab": {
          "base_uri": "https://localhost:8080/"
        },
        "id": "W-MHH72ci5ga",
        "outputId": "31b4b722-8322-4d9e-e637-b849548fa3b5"
      },
      "execution_count": null,
      "outputs": [
        {
          "output_type": "stream",
          "name": "stdout",
          "text": [
            "Ais greatest\n"
          ]
        }
      ]
    },
    {
      "cell_type": "code",
      "source": [
        "age=19\n",
        "if(age>=18):\n",
        "  print(\"You are eligible\")\n",
        "else:\n",
        "  print(\"You are not eligible\")\n"
      ],
      "metadata": {
        "colab": {
          "base_uri": "https://localhost:8080/"
        },
        "id": "1T4TsPXNfOno",
        "outputId": "9e1aa4e7-dda8-4a18-e7eb-034b41b34ac6"
      },
      "execution_count": null,
      "outputs": [
        {
          "output_type": "stream",
          "name": "stdout",
          "text": [
            "You are eligible\n"
          ]
        }
      ]
    },
    {
      "cell_type": "code",
      "source": [
        "num=50\n",
        "if(num>=50):\n",
        "  print(\"Number is equal\")\n",
        "else:\n",
        "  print(\"Number is not equal\")"
      ],
      "metadata": {
        "colab": {
          "base_uri": "https://localhost:8080/"
        },
        "id": "Ib6QUyDelTwI",
        "outputId": "e87a0c2c-1e07-4267-baf5-067295e544c4"
      },
      "execution_count": null,
      "outputs": [
        {
          "output_type": "stream",
          "name": "stdout",
          "text": [
            "Number is equal\n"
          ]
        }
      ]
    },
    {
      "cell_type": "code",
      "source": [
        "a=10\n",
        "b=20\n",
        "c=a+b\n",
        "if(c>=40):\n",
        "  print(\"C is greatest \")\n",
        "else:\n",
        "  print(\"C is smallest\")"
      ],
      "metadata": {
        "colab": {
          "base_uri": "https://localhost:8080/"
        },
        "id": "u58kgPnblT8w",
        "outputId": "14f92a4b-a6e5-41d9-9cc5-b7b3853064ea"
      },
      "execution_count": null,
      "outputs": [
        {
          "output_type": "stream",
          "name": "stdout",
          "text": [
            "C is smallest\n"
          ]
        }
      ]
    },
    {
      "cell_type": "code",
      "source": [
        "a=20\n",
        "b=-30\n",
        "d=a+b\n",
        "if(d<b):\n",
        "  print(\"\")\n",
        "else:\n",
        "  print(\"D is greatest\")"
      ],
      "metadata": {
        "colab": {
          "base_uri": "https://localhost:8080/"
        },
        "id": "qzcXnUxFlUCA",
        "outputId": "6957d18f-684c-46ee-d498-1eaa06fd657d"
      },
      "execution_count": null,
      "outputs": [
        {
          "output_type": "stream",
          "name": "stdout",
          "text": [
            "D is greatest\n"
          ]
        }
      ]
    },
    {
      "cell_type": "code",
      "source": [
        "a=35\n",
        "c=20\n",
        "if(a>c):\n",
        "  print(\"A is smallest\")\n",
        "else:\n",
        "  print(\"C is smallest\")"
      ],
      "metadata": {
        "colab": {
          "base_uri": "https://localhost:8080/"
        },
        "id": "nn9Kjyz2lUGZ",
        "outputId": "2eaf7634-54ff-4791-ba2a-f926f847b25e"
      },
      "execution_count": null,
      "outputs": [
        {
          "output_type": "stream",
          "name": "stdout",
          "text": [
            "A is smallest\n"
          ]
        }
      ]
    },
    {
      "cell_type": "code",
      "source": [
        "c=40\n",
        "b=20\n",
        "if(c%2==0):\n",
        "  print(\"C is even number \")\n",
        "else:\n",
        "  print(\"B is odd number\")"
      ],
      "metadata": {
        "colab": {
          "base_uri": "https://localhost:8080/"
        },
        "id": "f4fmQbnvnxEE",
        "outputId": "891794a7-324c-4a01-bfe4-0508615a35ef"
      },
      "execution_count": null,
      "outputs": [
        {
          "output_type": "stream",
          "name": "stdout",
          "text": [
            "C is even number \n"
          ]
        }
      ]
    },
    {
      "cell_type": "code",
      "source": [
        "a=int(input(\"enter the value:\"))\n",
        "if(a %2==0):\n",
        "  print(\"Even\")\n",
        "else:\n",
        "  print(\"Odd\")"
      ],
      "metadata": {
        "colab": {
          "base_uri": "https://localhost:8080/"
        },
        "id": "9BXhuI7Tnw9h",
        "outputId": "fb321621-efe4-45a1-c293-1cc9dbcc952c"
      },
      "execution_count": null,
      "outputs": [
        {
          "output_type": "stream",
          "name": "stdout",
          "text": [
            "enter the value:8\n",
            "Even\n"
          ]
        }
      ]
    },
    {
      "cell_type": "code",
      "source": [
        "x=10\n",
        "if(x==10):\n",
        "  print(\"Python is cool\")"
      ],
      "metadata": {
        "colab": {
          "base_uri": "https://localhost:8080/"
        },
        "id": "vgtgwGFvnwz5",
        "outputId": "bd353a80-fc64-4eea-aeb9-f3d1b891c513"
      },
      "execution_count": null,
      "outputs": [
        {
          "output_type": "stream",
          "name": "stdout",
          "text": [
            "Python is cool\n"
          ]
        }
      ]
    },
    {
      "cell_type": "code",
      "source": [
        "year=2024\n",
        "if(year %4==0 and year %100!=0):\n",
        "  print(\"Leap year\")\n",
        "else:\n",
        "  print(\"Not a leap year\")"
      ],
      "metadata": {
        "colab": {
          "base_uri": "https://localhost:8080/"
        },
        "id": "9hgNylpdnwmC",
        "outputId": "e4b16e97-a70e-4fdb-a106-e85963b94862"
      },
      "execution_count": null,
      "outputs": [
        {
          "output_type": "stream",
          "name": "stdout",
          "text": [
            "Leap year\n"
          ]
        }
      ]
    }
  ]
}